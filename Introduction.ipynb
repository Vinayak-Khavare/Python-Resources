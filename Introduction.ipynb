{
 "cells": [
  {
   "cell_type": "markdown",
   "metadata": {},
   "source": [
    "# Hello World"
   ]
  },
  {
   "cell_type": "code",
   "execution_count": null,
   "metadata": {},
   "outputs": [],
   "source": [
    "# First program\n",
    "print(\"Hello, World!\")\n",
    "# here \"Hello, World!\" is a string thats why it is inside double inverted commas"
   ]
  },
  {
   "cell_type": "markdown",
   "metadata": {},
   "source": [
    "Let’s analyze the script line by line. \n",
    "Line 1: [# First program] In Python, comments begin with a #. This statement is ignored by the interpreter and serves as documentation for our code. Line 2: [print(“Hello, World!”)] To print something on the console, print() function is used. This function also adds a newline after our message is printed(unlike in C). Note that in Python 2, “print” is not a function but a keyword and therefore can be used without parentheses. However, in Python 3, it is a function and must be invoked with parentheses. \n",
    "Line 3: [# here \"Hello, World!\" is a string thats why it is inside double inverted commas] This is just another comment like in Line 1. \n",
    "Python designed by Guido van Rossum at CWI has become a widely used general-purpose, high-level programming language."
   ]
  },
  {
   "cell_type": "markdown",
   "metadata": {},
   "source": [
    "# Variables and Data Structures"
   ]
  },
  {
   "cell_type": "markdown",
   "metadata": {},
   "source": [
    "In other programming languages like C, C++, and Java, you will need to declare the type of variables but in Python you don’t need to do that. Just type in the variable and when values will be given to it, then it will automatically know whether the value given would be an int, float, or char or even a String."
   ]
  },
  {
   "cell_type": "code",
   "execution_count": null,
   "metadata": {},
   "outputs": [],
   "source": [
    "# Python program to declare variables \n",
    "myNumber = 3\n",
    "print(myNumber) \n",
    "\n",
    "myNumber2 = 4.5\n",
    "print(myNumber2) \n",
    "\n",
    "myNumber =\"helloworld\"\n",
    "print(myNumber) "
   ]
  },
  {
   "cell_type": "markdown",
   "metadata": {},
   "source": [
    "See, how simple is it, just create a variable and assign it any value you want and then use the print function to print it. Python have 4 types of built in Data Structures namely List, Dictionary, Tuple and Set. List is the most basic Data Structure in python. List is a mutable data structure i.e items can be added to list later after the list creation. It’s like you are going to shop at the local market and made a list of some items and later on you can add more and more items to the list. append() function is used to add data to the list."
   ]
  },
  {
   "cell_type": "code",
   "execution_count": null,
   "metadata": {},
   "outputs": [],
   "source": [
    "# Python program to illustrate a list \n",
    "\n",
    "# creates a empty list \n",
    "nums = [] \n",
    "\n",
    "# appending data in list \n",
    "nums.append(21) \n",
    "nums.append(40.5) \n",
    "nums.append(\"String\") \n",
    "\n",
    "print(nums) "
   ]
  },
  {
   "cell_type": "markdown",
   "metadata": {},
   "source": [
    "# Comments"
   ]
  },
  {
   "cell_type": "code",
   "execution_count": null,
   "metadata": {},
   "outputs": [],
   "source": [
    "# is used for single line comment in Python\n",
    "\"\"\" this is a comment \n",
    "is used for multi line comments\"\"\""
   ]
  },
  {
   "cell_type": "markdown",
   "metadata": {},
   "source": [
    "# Input and Output"
   ]
  },
  {
   "cell_type": "markdown",
   "metadata": {},
   "source": [
    "In this section, we will learn how to take input from the user and hence manipulate it or simply display it. input() function is used to take input from the user."
   ]
  },
  {
   "cell_type": "code",
   "execution_count": null,
   "metadata": {},
   "outputs": [],
   "source": [
    "# Python program to illustrate \n",
    "# getting input from user \n",
    "name = input(\"Enter your name: \") \n",
    "\n",
    "# user entered the name 'harssh' \n",
    "print(\"hello\", name) \n"
   ]
  },
  {
   "cell_type": "code",
   "execution_count": null,
   "metadata": {},
   "outputs": [],
   "source": [
    "# Python3 program to get input from user \n",
    "\n",
    "# accepting integer from the user \n",
    "# the return type of input() function is string , \n",
    "# so we need to convert the input to integer \n",
    "num1 = int(input(\"Enter num1: \")) \n",
    "num2 = int(input(\"Enter num2: \")) \n",
    "\n",
    "num3 = num1 * num2 \n",
    "print(\"Product is: \", num3) \n"
   ]
  },
  {
   "cell_type": "markdown",
   "metadata": {},
   "source": [
    "# Selection"
   ]
  },
  {
   "cell_type": "markdown",
   "metadata": {},
   "source": [
    "Selection in Python is made using the two keywords ‘if’ and ‘elif’ and else (elseif)"
   ]
  },
  {
   "cell_type": "code",
   "execution_count": null,
   "metadata": {},
   "outputs": [],
   "source": [
    "# Python program to illustrate \n",
    "# selection statement \n",
    "\n",
    "num1 = 34\n",
    "if(num1>12): \n",
    "\tprint(\"Num1 is good\") \n",
    "elif(num1>35): \n",
    "\tprint(\"Num2 is not gooooo....\") \n",
    "else: \n",
    "\tprint(\"Num2 is great\") \n"
   ]
  },
  {
   "cell_type": "markdown",
   "metadata": {},
   "source": [
    "# Functions"
   ]
  },
  {
   "cell_type": "markdown",
   "metadata": {},
   "source": [
    "You can think of functions like a bunch of code that is intended to do a particular task in the whole Python script. Python used the keyword ‘def’ to define a function."
   ]
  },
  {
   "cell_type": "code",
   "execution_count": null,
   "metadata": {
    "vscode": {
     "languageId": "plaintext"
    }
   },
   "outputs": [],
   "source": [
    "Syntax :\n",
    "def function-name(arguments):\n",
    "            #function body"
   ]
  },
  {
   "cell_type": "code",
   "execution_count": null,
   "metadata": {},
   "outputs": [],
   "source": [
    "# Python program to illustrate \n",
    "# functions \n",
    "def hello(): \n",
    "\tprint(\"hello\") \n",
    "\tprint(\"hello again\") \n",
    "hello() \n",
    "\n",
    "# calling function \n",
    "hello()\t\t\t \n"
   ]
  },
  {
   "cell_type": "markdown",
   "metadata": {},
   "source": [
    "Now as we know any program starts from a ‘main’ function…lets create a main function like in many other programming languages."
   ]
  },
  {
   "cell_type": "code",
   "execution_count": null,
   "metadata": {},
   "outputs": [],
   "source": [
    "# Python program to illustrate \n",
    "# function with main \n",
    "def getInteger(): \n",
    "\tresult = int(input(\"Enter integer: \")) \n",
    "\treturn result \n",
    "\n",
    "def Main(): \n",
    "\tprint(\"Started\") \n",
    "\n",
    "\t# calling the getInteger function and \n",
    "\t# storing its returned value in the output variable \n",
    "\toutput = getInteger()\t \n",
    "\tprint(output) \n",
    "\n",
    "# now we are required to tell Python \n",
    "# for 'Main' function existence \n",
    "if __name__==\"__main__\": \n",
    "\tMain() \n"
   ]
  },
  {
   "cell_type": "markdown",
   "metadata": {},
   "source": [
    "# Iteration (Looping)"
   ]
  },
  {
   "cell_type": "code",
   "execution_count": null,
   "metadata": {},
   "outputs": [],
   "source": [
    "# As the name suggests it calls repeating things again and again. We will use the most popular ‘for’ loop here.\n",
    "# Python program to illustrate a simple for loop \n",
    "\n",
    "for step in range(5):\t \n",
    "\tprint(step) \n"
   ]
  },
  {
   "cell_type": "markdown",
   "metadata": {},
   "source": [
    "# Modules"
   ]
  },
  {
   "cell_type": "markdown",
   "metadata": {},
   "source": [
    "Python has a very rich module library that has several functions to do many tasks. ‘import’ keyword is used to import a particular module into your python code. For instance consider the following program."
   ]
  },
  {
   "cell_type": "code",
   "execution_count": null,
   "metadata": {},
   "outputs": [],
   "source": [
    "# Python program to illustrate \n",
    "# math module \n",
    "import math \n",
    "\n",
    "def Main(): \n",
    "\tnum = -85\n",
    "\n",
    "\t# fabs is used to get the absolute \n",
    "\t# value of a decimal \n",
    "\tnum = math.fabs(num) \n",
    "\tprint(num) \n",
    "\t\n",
    "\t\n",
    "if __name__==\"__main__\": \n",
    "\tMain() \n"
   ]
  }
 ],
 "metadata": {
  "language_info": {
   "name": "python"
  }
 },
 "nbformat": 4,
 "nbformat_minor": 2
}
